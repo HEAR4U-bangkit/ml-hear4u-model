{
  "cells": [
    {
      "cell_type": "markdown",
      "metadata": {
        "id": "K2madPFAGHb3"
      },
      "source": [
        "# Hear4U Model\n",
        "\n",
        "**Hear4U** is an application that can help individuals with hearing disabilities to identify environmental sounds through visual speech recognition.\n",
        "\n",
        " ML Path:\n",
        "\n",
        "- Muhammad Akram Fais (M281D4KY3193)\n",
        "- Khairul Abdi (M281D4KY3168)\n",
        "- Rakha Hanif Maheswara (M006D4KY1574)\n"
      ]
    },
    {
      "cell_type": "markdown",
      "metadata": {
        "id": "5Mdp2TpBh96Y"
      },
      "source": [
        "## Import TensorFlow and other libraries\n"
      ]
    },
    {
      "cell_type": "markdown",
      "metadata": {
        "id": "zCcKYqu_hvKe"
      },
      "source": [
        "By installing `TensorFlow I/O`, you can load audio files easier."
      ]
    },
    {
      "cell_type": "code",
      "execution_count": null,
      "metadata": {
        "id": "urBpRWDHTHHU",
        "colab": {
          "base_uri": "https://localhost:8080/"
        },
        "outputId": "a210b6a1-4f57-4a06-c1d1-89fbbc60b3d4"
      },
      "outputs": [
        {
          "output_type": "stream",
          "name": "stdout",
          "text": [
            "\u001b[2K     \u001b[90m━━━━━━━━━━━━━━━━━━━━━━━━━━━━━━━━━━━━━━━━\u001b[0m \u001b[32m588.3/588.3 MB\u001b[0m \u001b[31m1.9 MB/s\u001b[0m eta \u001b[36m0:00:00\u001b[0m\n",
            "\u001b[2K     \u001b[90m━━━━━━━━━━━━━━━━━━━━━━━━━━━━━━━━━━━━━━━━\u001b[0m \u001b[32m1.7/1.7 MB\u001b[0m \u001b[31m29.6 MB/s\u001b[0m eta \u001b[36m0:00:00\u001b[0m\n",
            "\u001b[2K     \u001b[90m━━━━━━━━━━━━━━━━━━━━━━━━━━━━━━━━━━━━━━━━\u001b[0m \u001b[32m1.1/1.1 MB\u001b[0m \u001b[31m32.5 MB/s\u001b[0m eta \u001b[36m0:00:00\u001b[0m\n",
            "\u001b[2K     \u001b[90m━━━━━━━━━━━━━━━━━━━━━━━━━━━━━━━━━━━━━━━━\u001b[0m \u001b[32m6.0/6.0 MB\u001b[0m \u001b[31m26.2 MB/s\u001b[0m eta \u001b[36m0:00:00\u001b[0m\n",
            "\u001b[2K     \u001b[90m━━━━━━━━━━━━━━━━━━━━━━━━━━━━━━━━━━━━━━━━\u001b[0m \u001b[32m439.2/439.2 kB\u001b[0m \u001b[31m14.7 MB/s\u001b[0m eta \u001b[36m0:00:00\u001b[0m\n",
            "\u001b[2K     \u001b[90m━━━━━━━━━━━━━━━━━━━━━━━━━━━━━━━━━━━━━━━━\u001b[0m \u001b[32m4.9/4.9 MB\u001b[0m \u001b[31m17.2 MB/s\u001b[0m eta \u001b[36m0:00:00\u001b[0m\n",
            "\u001b[2K     \u001b[90m━━━━━━━━━━━━━━━━━━━━━━━━━━━━━━━━━━━━━━━━\u001b[0m \u001b[32m781.3/781.3 kB\u001b[0m \u001b[31m27.9 MB/s\u001b[0m eta \u001b[36m0:00:00\u001b[0m\n",
            "\u001b[?25h\u001b[31mERROR: pip's dependency resolver does not currently take into account all the packages that are installed. This behaviour is the source of the following dependency conflicts.\n",
            "cudf-cu12 24.4.1 requires protobuf<5,>=3.20, but you have protobuf 3.19.6 which is incompatible.\n",
            "pandas-gbq 0.19.2 requires google-auth-oauthlib>=0.7.0, but you have google-auth-oauthlib 0.4.6 which is incompatible.\n",
            "tensorflow-datasets 4.9.5 requires protobuf>=3.20, but you have protobuf 3.19.6 which is incompatible.\n",
            "tensorflow-metadata 1.15.0 requires protobuf<4.21,>=3.20.3; python_version < \"3.11\", but you have protobuf 3.19.6 which is incompatible.\n",
            "tf-keras 2.15.1 requires tensorflow<2.16,>=2.15, but you have tensorflow 2.11.1 which is incompatible.\u001b[0m\u001b[31m\n",
            "\u001b[2K     \u001b[90m━━━━━━━━━━━━━━━━━━━━━━━━━━━━━━━━━━━━━━━━\u001b[0m \u001b[32m26.9/26.9 MB\u001b[0m \u001b[31m12.3 MB/s\u001b[0m eta \u001b[36m0:00:00\u001b[0m\n",
            "\u001b[2K     \u001b[90m━━━━━━━━━━━━━━━━━━━━━━━━━━━━━━━━━━━━━━━━\u001b[0m \u001b[32m2.4/2.4 MB\u001b[0m \u001b[31m65.0 MB/s\u001b[0m eta \u001b[36m0:00:00\u001b[0m\n",
            "\u001b[?25h\u001b[31mERROR: pip's dependency resolver does not currently take into account all the packages that are installed. This behaviour is the source of the following dependency conflicts.\n",
            "tf-keras 2.15.1 requires tensorflow<2.16,>=2.15, but you have tensorflow 2.11.1 which is incompatible.\u001b[0m\u001b[31m\n",
            "\u001b[0m"
          ]
        }
      ],
      "source": [
        "!pip install -q \"tensorflow==2.11.*\"\n",
        "# tensorflow_io 0.28 is compatible with TensorFlow 2.11\n",
        "!pip install -q \"tensorflow_io==0.28.*\""
      ]
    },
    {
      "cell_type": "code",
      "execution_count": null,
      "metadata": {
        "id": "7l3nqdWVF-kC"
      },
      "outputs": [],
      "source": [
        "import os\n",
        "\n",
        "from IPython import display\n",
        "import matplotlib.pyplot as plt\n",
        "import numpy as np\n",
        "import pandas as pd\n",
        "\n",
        "import tensorflow as tf\n",
        "import tensorflow_hub as hub\n",
        "import tensorflow_io as tfio"
      ]
    },
    {
      "cell_type": "markdown",
      "metadata": {
        "id": "v9ZhybCnt_bM"
      },
      "source": [
        "## Loading YAMNet from TensorFlow Hub\n",
        "\n",
        "We are going to use a pre-trained YAMNet from [Tensorflow Hub](https://tfhub.dev/) to extract the embeddings from the sound files."
      ]
    },
    {
      "cell_type": "code",
      "execution_count": null,
      "metadata": {
        "id": "06CWkBV5v3gr"
      },
      "outputs": [],
      "source": [
        "yamnet_model_handle = 'https://tfhub.dev/google/yamnet/1'\n",
        "yamnet_model = hub.load(yamnet_model_handle)"
      ]
    },
    {
      "cell_type": "code",
      "source": [
        "from google.colab import files\n",
        "\n",
        "# Mengunggah file\n",
        "uploaded = files.upload()\n",
        "\n",
        "# Mengambil nama file yang diunggah\n",
        "for testing_filename in uploaded.keys():\n",
        "    print(f'Nama file yang diunggah: {testing_filename}')"
      ],
      "metadata": {
        "colab": {
          "base_uri": "https://localhost:8080/",
          "height": 87
        },
        "id": "4RDcqPSvgUc-",
        "outputId": "e8a38d86-800e-4687-c7cf-09038271b42e"
      },
      "execution_count": null,
      "outputs": [
        {
          "output_type": "display_data",
          "data": {
            "text/plain": [
              "<IPython.core.display.HTML object>"
            ],
            "text/html": [
              "\n",
              "     <input type=\"file\" id=\"files-82d5bfc2-af75-44ec-9fb3-888bab22ce81\" name=\"files[]\" multiple disabled\n",
              "        style=\"border:none\" />\n",
              "     <output id=\"result-82d5bfc2-af75-44ec-9fb3-888bab22ce81\">\n",
              "      Upload widget is only available when the cell has been executed in the\n",
              "      current browser session. Please rerun this cell to enable.\n",
              "      </output>\n",
              "      <script>// Copyright 2017 Google LLC\n",
              "//\n",
              "// Licensed under the Apache License, Version 2.0 (the \"License\");\n",
              "// you may not use this file except in compliance with the License.\n",
              "// You may obtain a copy of the License at\n",
              "//\n",
              "//      http://www.apache.org/licenses/LICENSE-2.0\n",
              "//\n",
              "// Unless required by applicable law or agreed to in writing, software\n",
              "// distributed under the License is distributed on an \"AS IS\" BASIS,\n",
              "// WITHOUT WARRANTIES OR CONDITIONS OF ANY KIND, either express or implied.\n",
              "// See the License for the specific language governing permissions and\n",
              "// limitations under the License.\n",
              "\n",
              "/**\n",
              " * @fileoverview Helpers for google.colab Python module.\n",
              " */\n",
              "(function(scope) {\n",
              "function span(text, styleAttributes = {}) {\n",
              "  const element = document.createElement('span');\n",
              "  element.textContent = text;\n",
              "  for (const key of Object.keys(styleAttributes)) {\n",
              "    element.style[key] = styleAttributes[key];\n",
              "  }\n",
              "  return element;\n",
              "}\n",
              "\n",
              "// Max number of bytes which will be uploaded at a time.\n",
              "const MAX_PAYLOAD_SIZE = 100 * 1024;\n",
              "\n",
              "function _uploadFiles(inputId, outputId) {\n",
              "  const steps = uploadFilesStep(inputId, outputId);\n",
              "  const outputElement = document.getElementById(outputId);\n",
              "  // Cache steps on the outputElement to make it available for the next call\n",
              "  // to uploadFilesContinue from Python.\n",
              "  outputElement.steps = steps;\n",
              "\n",
              "  return _uploadFilesContinue(outputId);\n",
              "}\n",
              "\n",
              "// This is roughly an async generator (not supported in the browser yet),\n",
              "// where there are multiple asynchronous steps and the Python side is going\n",
              "// to poll for completion of each step.\n",
              "// This uses a Promise to block the python side on completion of each step,\n",
              "// then passes the result of the previous step as the input to the next step.\n",
              "function _uploadFilesContinue(outputId) {\n",
              "  const outputElement = document.getElementById(outputId);\n",
              "  const steps = outputElement.steps;\n",
              "\n",
              "  const next = steps.next(outputElement.lastPromiseValue);\n",
              "  return Promise.resolve(next.value.promise).then((value) => {\n",
              "    // Cache the last promise value to make it available to the next\n",
              "    // step of the generator.\n",
              "    outputElement.lastPromiseValue = value;\n",
              "    return next.value.response;\n",
              "  });\n",
              "}\n",
              "\n",
              "/**\n",
              " * Generator function which is called between each async step of the upload\n",
              " * process.\n",
              " * @param {string} inputId Element ID of the input file picker element.\n",
              " * @param {string} outputId Element ID of the output display.\n",
              " * @return {!Iterable<!Object>} Iterable of next steps.\n",
              " */\n",
              "function* uploadFilesStep(inputId, outputId) {\n",
              "  const inputElement = document.getElementById(inputId);\n",
              "  inputElement.disabled = false;\n",
              "\n",
              "  const outputElement = document.getElementById(outputId);\n",
              "  outputElement.innerHTML = '';\n",
              "\n",
              "  const pickedPromise = new Promise((resolve) => {\n",
              "    inputElement.addEventListener('change', (e) => {\n",
              "      resolve(e.target.files);\n",
              "    });\n",
              "  });\n",
              "\n",
              "  const cancel = document.createElement('button');\n",
              "  inputElement.parentElement.appendChild(cancel);\n",
              "  cancel.textContent = 'Cancel upload';\n",
              "  const cancelPromise = new Promise((resolve) => {\n",
              "    cancel.onclick = () => {\n",
              "      resolve(null);\n",
              "    };\n",
              "  });\n",
              "\n",
              "  // Wait for the user to pick the files.\n",
              "  const files = yield {\n",
              "    promise: Promise.race([pickedPromise, cancelPromise]),\n",
              "    response: {\n",
              "      action: 'starting',\n",
              "    }\n",
              "  };\n",
              "\n",
              "  cancel.remove();\n",
              "\n",
              "  // Disable the input element since further picks are not allowed.\n",
              "  inputElement.disabled = true;\n",
              "\n",
              "  if (!files) {\n",
              "    return {\n",
              "      response: {\n",
              "        action: 'complete',\n",
              "      }\n",
              "    };\n",
              "  }\n",
              "\n",
              "  for (const file of files) {\n",
              "    const li = document.createElement('li');\n",
              "    li.append(span(file.name, {fontWeight: 'bold'}));\n",
              "    li.append(span(\n",
              "        `(${file.type || 'n/a'}) - ${file.size} bytes, ` +\n",
              "        `last modified: ${\n",
              "            file.lastModifiedDate ? file.lastModifiedDate.toLocaleDateString() :\n",
              "                                    'n/a'} - `));\n",
              "    const percent = span('0% done');\n",
              "    li.appendChild(percent);\n",
              "\n",
              "    outputElement.appendChild(li);\n",
              "\n",
              "    const fileDataPromise = new Promise((resolve) => {\n",
              "      const reader = new FileReader();\n",
              "      reader.onload = (e) => {\n",
              "        resolve(e.target.result);\n",
              "      };\n",
              "      reader.readAsArrayBuffer(file);\n",
              "    });\n",
              "    // Wait for the data to be ready.\n",
              "    let fileData = yield {\n",
              "      promise: fileDataPromise,\n",
              "      response: {\n",
              "        action: 'continue',\n",
              "      }\n",
              "    };\n",
              "\n",
              "    // Use a chunked sending to avoid message size limits. See b/62115660.\n",
              "    let position = 0;\n",
              "    do {\n",
              "      const length = Math.min(fileData.byteLength - position, MAX_PAYLOAD_SIZE);\n",
              "      const chunk = new Uint8Array(fileData, position, length);\n",
              "      position += length;\n",
              "\n",
              "      const base64 = btoa(String.fromCharCode.apply(null, chunk));\n",
              "      yield {\n",
              "        response: {\n",
              "          action: 'append',\n",
              "          file: file.name,\n",
              "          data: base64,\n",
              "        },\n",
              "      };\n",
              "\n",
              "      let percentDone = fileData.byteLength === 0 ?\n",
              "          100 :\n",
              "          Math.round((position / fileData.byteLength) * 100);\n",
              "      percent.textContent = `${percentDone}% done`;\n",
              "\n",
              "    } while (position < fileData.byteLength);\n",
              "  }\n",
              "\n",
              "  // All done.\n",
              "  yield {\n",
              "    response: {\n",
              "      action: 'complete',\n",
              "    }\n",
              "  };\n",
              "}\n",
              "\n",
              "scope.google = scope.google || {};\n",
              "scope.google.colab = scope.google.colab || {};\n",
              "scope.google.colab._files = {\n",
              "  _uploadFiles,\n",
              "  _uploadFilesContinue,\n",
              "};\n",
              "})(self);\n",
              "</script> "
            ]
          },
          "metadata": {}
        },
        {
          "output_type": "stream",
          "name": "stdout",
          "text": [
            "Saving 135527-6-4-0.wav to 135527-6-4-0.wav\n",
            "Nama file yang diunggah: 135527-6-4-0.wav\n"
          ]
        }
      ]
    },
    {
      "cell_type": "markdown",
      "metadata": {
        "id": "mBm9y9iV2U_-"
      },
      "source": [
        "The returned `wav_data` from `load_wav_16k_mono` is already normalized to values in the `[-1.0, 1.0]` range."
      ]
    },
    {
      "cell_type": "code",
      "execution_count": null,
      "metadata": {
        "id": "Xwc9Wrdg2EtY"
      },
      "outputs": [],
      "source": [
        "@tf.function\n",
        "def load_wav_16k_mono(filename):\n",
        "    \"\"\" Load a WAV file, convert it to a float tensor, resample to 16 kHz single-channel audio. \"\"\"\n",
        "    file_contents = tf.io.read_file(filename)\n",
        "    wav, sample_rate = tf.audio.decode_wav(\n",
        "          file_contents,\n",
        "          desired_channels=1)\n",
        "    wav = tf.squeeze(wav, axis=-1)\n",
        "    sample_rate = tf.cast(sample_rate, dtype=tf.int64)\n",
        "    wav = tfio.audio.resample(wav, rate_in=sample_rate, rate_out=16000)\n",
        "    return wav"
      ]
    },
    {
      "cell_type": "code",
      "execution_count": null,
      "metadata": {
        "colab": {
          "base_uri": "https://localhost:8080/",
          "height": 506
        },
        "id": "FRqpjkwB0Jjw",
        "outputId": "fc6f5939-d801-4c22-d904-6986ba381551"
      },
      "outputs": [
        {
          "output_type": "stream",
          "name": "stderr",
          "text": [
            "WARNING:tensorflow:Using a while_loop for converting IO>AudioResample cause there is no registered converter for this op.\n"
          ]
        },
        {
          "output_type": "execute_result",
          "data": {
            "text/plain": [
              "<IPython.lib.display.Audio object>"
            ],
            "text/html": [
              "\n",
              "                <audio  controls=\"controls\" >\n",
              "                    <source src=\"data:audio/wav;base64,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\" type=\"audio/wav\" />\n",
              "                    Your browser does not support the audio element.\n",
              "                </audio>\n",
              "              "
            ]
          },
          "metadata": {},
          "execution_count": 40
        },
        {
          "output_type": "display_data",
          "data": {
            "text/plain": [
              "<Figure size 640x480 with 1 Axes>"
            ],
            "image/png": "[encoded data removed]"
          },
          "metadata": {}
        }
      ],
      "source": [
        "testing_wav_data = load_wav_16k_mono(testing_filename)\n",
        "\n",
        "_ = plt.plot(testing_wav_data)\n",
        "\n",
        "# Play the audio file.\n",
        "display.Audio(testing_wav_data, rate=16000)"
      ]
    },
    {
      "cell_type": "markdown",
      "metadata": {
        "id": "6z6rqlEz20YB"
      },
      "source": [
        "### Load the class mapping\n",
        "\n",
        "Load the class names that YAMNet is able to recognize."
      ]
    },
    {
      "cell_type": "code",
      "execution_count": null,
      "metadata": {
        "colab": {
          "base_uri": "https://localhost:8080/"
        },
        "id": "6Gyj23e_3Mgr",
        "outputId": "c3396dd2-f630-4f62-aed6-36fe212a0350"
      },
      "outputs": [
        {
          "output_type": "stream",
          "name": "stdout",
          "text": [
            "Speech\n",
            "Child speech, kid speaking\n",
            "Conversation\n",
            "Narration, monologue\n",
            "Babbling\n",
            "Speech synthesizer\n",
            "Shout\n",
            "Bellow\n",
            "Whoop\n",
            "Yell\n",
            "Children shouting\n",
            "Screaming\n",
            "Whispering\n",
            "Laughter\n",
            "Baby laughter\n",
            "Giggle\n",
            "Snicker\n",
            "Belly laugh\n",
            "Chuckle, chortle\n",
            "Crying, sobbing\n",
            "...\n"
          ]
        }
      ],
      "source": [
        "class_map_path = yamnet_model.class_map_path().numpy().decode('utf-8')\n",
        "class_names =list(pd.read_csv(class_map_path)['display_name'])\n",
        "\n",
        "for name in class_names[:20]:\n",
        "  print(name)\n",
        "print('...')"
      ]
    },
    {
      "cell_type": "markdown",
      "metadata": {
        "id": "5xbycDnT40u0"
      },
      "source": [
        "### Run inference\n"
      ]
    },
    {
      "cell_type": "code",
      "execution_count": null,
      "metadata": {
        "colab": {
          "base_uri": "https://localhost:8080/"
        },
        "id": "NT0otp-A4Y3u",
        "outputId": "a07d025a-ec15-41c0-925c-5059b5434b7e"
      },
      "outputs": [
        {
          "output_type": "stream",
          "name": "stdout",
          "text": [
            "The main sound is: Explosion\n"
          ]
        }
      ],
      "source": [
        "scores, embeddings, spectrogram = yamnet_model(testing_wav_data)\n",
        "class_scores = tf.reduce_mean(scores, axis=0)\n",
        "top_class = tf.math.argmax(class_scores)\n",
        "inferred_class = class_names[top_class]\n",
        "\n",
        "print(f'The main sound is: {inferred_class}')"
      ]
    },
    {
      "cell_type": "markdown",
      "source": [
        "## Hear4U dataset\n",
        "\n",
        "The Hear4U dataset is a labeled collection of 1,000 environmental audio recordings. The dataset consists of 10 classes, with 100 examples per class.\n"
      ],
      "metadata": {
        "id": "3WuqodfsszDh"
      }
    },
    {
      "cell_type": "markdown",
      "source": [
        "Import Data from Drive"
      ],
      "metadata": {
        "id": "CkSDuYvZUUpI"
      }
    },
    {
      "cell_type": "code",
      "source": [
        "from google.colab import drive\n",
        "drive.mount('/content/drive')"
      ],
      "metadata": {
        "colab": {
          "base_uri": "https://localhost:8080/"
        },
        "id": "gpOMWcHXs4-0",
        "outputId": "4ac2f1da-cfed-4dfb-de5d-925f8abd5ec7"
      },
      "execution_count": null,
      "outputs": [
        {
          "output_type": "stream",
          "name": "stdout",
          "text": [
            "Mounted at /content/drive\n"
          ]
        }
      ]
    },
    {
      "cell_type": "markdown",
      "source": [
        "### Showing the data\n",
        "\n",
        "The metadata for each file is specified in the csv file at `./content/drive/MyDrive/Dataset/meta/hear4u.csv` and all the audio files are in `./content/drive/MyDrive/Dataset/meta/Hear4U/dataset_converted`"
      ],
      "metadata": {
        "id": "KPeYi3gnUa21"
      }
    },
    {
      "cell_type": "code",
      "source": [
        "hear4u = '/content/drive/MyDrive/Dataset/meta/hear4u.csv'\n",
        "base_data_path = '/content/drive/MyDrive/Dataset/Hear4U_dataset_converted'\n",
        "\n",
        "pd_data = pd.read_csv(hear4u)\n",
        "pd_data.head()"
      ],
      "metadata": {
        "colab": {
          "base_uri": "https://localhost:8080/",
          "height": 206
        },
        "id": "ogmHwV7RtMSU",
        "outputId": "6015dfb1-d8e6-43c1-dd4f-36f8f6c917df"
      },
      "execution_count": null,
      "outputs": [
        {
          "output_type": "execute_result",
          "data": {
            "text/plain": [
              "              filename  fold  class_id     category\n",
              "0   crying_baby_65.wav     1         0  crying_baby\n",
              "1    3-151081-A-20.wav     1         0  crying_baby\n",
              "2    crying_baby_8.wav     1         0  crying_baby\n",
              "3     1-60997-A-20.wav     1         0  crying_baby\n",
              "4  crying_baby4_35.wav     1         0  crying_baby"
            ],
            "text/html": [
              "\n",
              "  <div id=\"df-79ba61e8-d7db-49ee-bf23-73a12191369d\" class=\"colab-df-container\">\n",
              "    <div>\n",
              "<style scoped>\n",
              "    .dataframe tbody tr th:only-of-type {\n",
              "        vertical-align: middle;\n",
              "    }\n",
              "\n",
              "    .dataframe tbody tr th {\n",
              "        vertical-align: top;\n",
              "    }\n",
              "\n",
              "    .dataframe thead th {\n",
              "        text-align: right;\n",
              "    }\n",
              "</style>\n",
              "<table border=\"1\" class=\"dataframe\">\n",
              "  <thead>\n",
              "    <tr style=\"text-align: right;\">\n",
              "      <th></th>\n",
              "      <th>filename</th>\n",
              "      <th>fold</th>\n",
              "      <th>class_id</th>\n",
              "      <th>category</th>\n",
              "    </tr>\n",
              "  </thead>\n",
              "  <tbody>\n",
              "    <tr>\n",
              "      <th>0</th>\n",
              "      <td>crying_baby_65.wav</td>\n",
              "      <td>1</td>\n",
              "      <td>0</td>\n",
              "      <td>crying_baby</td>\n",
              "    </tr>\n",
              "    <tr>\n",
              "      <th>1</th>\n",
              "      <td>3-151081-A-20.wav</td>\n",
              "      <td>1</td>\n",
              "      <td>0</td>\n",
              "      <td>crying_baby</td>\n",
              "    </tr>\n",
              "    <tr>\n",
              "      <th>2</th>\n",
              "      <td>crying_baby_8.wav</td>\n",
              "      <td>1</td>\n",
              "      <td>0</td>\n",
              "      <td>crying_baby</td>\n",
              "    </tr>\n",
              "    <tr>\n",
              "      <th>3</th>\n",
              "      <td>1-60997-A-20.wav</td>\n",
              "      <td>1</td>\n",
              "      <td>0</td>\n",
              "      <td>crying_baby</td>\n",
              "    </tr>\n",
              "    <tr>\n",
              "      <th>4</th>\n",
              "      <td>crying_baby4_35.wav</td>\n",
              "      <td>1</td>\n",
              "      <td>0</td>\n",
              "      <td>crying_baby</td>\n",
              "    </tr>\n",
              "  </tbody>\n",
              "</table>\n",
              "</div>\n",
              "    <div class=\"colab-df-buttons\">\n",
              "\n",
              "  <div class=\"colab-df-container\">\n",
              "    <button class=\"colab-df-convert\" onclick=\"convertToInteractive('df-79ba61e8-d7db-49ee-bf23-73a12191369d')\"\n",
              "            title=\"Convert this dataframe to an interactive table.\"\n",
              "            style=\"display:none;\">\n",
              "\n",
              "  <svg xmlns=\"http://www.w3.org/2000/svg\" height=\"24px\" viewBox=\"0 -960 960 960\">\n",
              "    <path d=\"M120-120v-720h720v720H120Zm60-500h600v-160H180v160Zm220 220h160v-160H400v160Zm0 220h160v-160H400v160ZM180-400h160v-160H180v160Zm440 0h160v-160H620v160ZM180-180h160v-160H180v160Zm440 0h160v-160H620v160Z\"/>\n",
              "  </svg>\n",
              "    </button>\n",
              "\n",
              "  <style>\n",
              "    .colab-df-container {\n",
              "      display:flex;\n",
              "      gap: 12px;\n",
              "    }\n",
              "\n",
              "    .colab-df-convert {\n",
              "      background-color: #E8F0FE;\n",
              "      border: none;\n",
              "      border-radius: 50%;\n",
              "      cursor: pointer;\n",
              "      display: none;\n",
              "      fill: #1967D2;\n",
              "      height: 32px;\n",
              "      padding: 0 0 0 0;\n",
              "      width: 32px;\n",
              "    }\n",
              "\n",
              "    .colab-df-convert:hover {\n",
              "      background-color: #E2EBFA;\n",
              "      box-shadow: 0px 1px 2px rgba(60, 64, 67, 0.3), 0px 1px 3px 1px rgba(60, 64, 67, 0.15);\n",
              "      fill: #174EA6;\n",
              "    }\n",
              "\n",
              "    .colab-df-buttons div {\n",
              "      margin-bottom: 4px;\n",
              "    }\n",
              "\n",
              "    [theme=dark] .colab-df-convert {\n",
              "      background-color: #3B4455;\n",
              "      fill: #D2E3FC;\n",
              "    }\n",
              "\n",
              "    [theme=dark] .colab-df-convert:hover {\n",
              "      background-color: #434B5C;\n",
              "      box-shadow: 0px 1px 3px 1px rgba(0, 0, 0, 0.15);\n",
              "      filter: drop-shadow(0px 1px 2px rgba(0, 0, 0, 0.3));\n",
              "      fill: #FFFFFF;\n",
              "    }\n",
              "  </style>\n",
              "\n",
              "    <script>\n",
              "      const buttonEl =\n",
              "        document.querySelector('#df-79ba61e8-d7db-49ee-bf23-73a12191369d button.colab-df-convert');\n",
              "      buttonEl.style.display =\n",
              "        google.colab.kernel.accessAllowed ? 'block' : 'none';\n",
              "\n",
              "      async function convertToInteractive(key) {\n",
              "        const element = document.querySelector('#df-79ba61e8-d7db-49ee-bf23-73a12191369d');\n",
              "        const dataTable =\n",
              "          await google.colab.kernel.invokeFunction('convertToInteractive',\n",
              "                                                    [key], {});\n",
              "        if (!dataTable) return;\n",
              "\n",
              "        const docLinkHtml = 'Like what you see? Visit the ' +\n",
              "          '<a target=\"_blank\" href=https://colab.research.google.com/notebooks/data_table.ipynb>data table notebook</a>'\n",
              "          + ' to learn more about interactive tables.';\n",
              "        element.innerHTML = '';\n",
              "        dataTable['output_type'] = 'display_data';\n",
              "        await google.colab.output.renderOutput(dataTable, element);\n",
              "        const docLink = document.createElement('div');\n",
              "        docLink.innerHTML = docLinkHtml;\n",
              "        element.appendChild(docLink);\n",
              "      }\n",
              "    </script>\n",
              "  </div>\n",
              "\n",
              "\n",
              "<div id=\"df-354297f1-14c6-4816-83b0-7071f5d9405e\">\n",
              "  <button class=\"colab-df-quickchart\" onclick=\"quickchart('df-354297f1-14c6-4816-83b0-7071f5d9405e')\"\n",
              "            title=\"Suggest charts\"\n",
              "            style=\"display:none;\">\n",
              "\n",
              "<svg xmlns=\"http://www.w3.org/2000/svg\" height=\"24px\"viewBox=\"0 0 24 24\"\n",
              "     width=\"24px\">\n",
              "    <g>\n",
              "        <path d=\"M19 3H5c-1.1 0-2 .9-2 2v14c0 1.1.9 2 2 2h14c1.1 0 2-.9 2-2V5c0-1.1-.9-2-2-2zM9 17H7v-7h2v7zm4 0h-2V7h2v10zm4 0h-2v-4h2v4z\"/>\n",
              "    </g>\n",
              "</svg>\n",
              "  </button>\n",
              "\n",
              "<style>\n",
              "  .colab-df-quickchart {\n",
              "      --bg-color: #E8F0FE;\n",
              "      --fill-color: #1967D2;\n",
              "      --hover-bg-color: #E2EBFA;\n",
              "      --hover-fill-color: #174EA6;\n",
              "      --disabled-fill-color: #AAA;\n",
              "      --disabled-bg-color: #DDD;\n",
              "  }\n",
              "\n",
              "  [theme=dark] .colab-df-quickchart {\n",
              "      --bg-color: #3B4455;\n",
              "      --fill-color: #D2E3FC;\n",
              "      --hover-bg-color: #434B5C;\n",
              "      --hover-fill-color: #FFFFFF;\n",
              "      --disabled-bg-color: #3B4455;\n",
              "      --disabled-fill-color: #666;\n",
              "  }\n",
              "\n",
              "  .colab-df-quickchart {\n",
              "    background-color: var(--bg-color);\n",
              "    border: none;\n",
              "    border-radius: 50%;\n",
              "    cursor: pointer;\n",
              "    display: none;\n",
              "    fill: var(--fill-color);\n",
              "    height: 32px;\n",
              "    padding: 0;\n",
              "    width: 32px;\n",
              "  }\n",
              "\n",
              "  .colab-df-quickchart:hover {\n",
              "    background-color: var(--hover-bg-color);\n",
              "    box-shadow: 0 1px 2px rgba(60, 64, 67, 0.3), 0 1px 3px 1px rgba(60, 64, 67, 0.15);\n",
              "    fill: var(--button-hover-fill-color);\n",
              "  }\n",
              "\n",
              "  .colab-df-quickchart-complete:disabled,\n",
              "  .colab-df-quickchart-complete:disabled:hover {\n",
              "    background-color: var(--disabled-bg-color);\n",
              "    fill: var(--disabled-fill-color);\n",
              "    box-shadow: none;\n",
              "  }\n",
              "\n",
              "  .colab-df-spinner {\n",
              "    border: 2px solid var(--fill-color);\n",
              "    border-color: transparent;\n",
              "    border-bottom-color: var(--fill-color);\n",
              "    animation:\n",
              "      spin 1s steps(1) infinite;\n",
              "  }\n",
              "\n",
              "  @keyframes spin {\n",
              "    0% {\n",
              "      border-color: transparent;\n",
              "      border-bottom-color: var(--fill-color);\n",
              "      border-left-color: var(--fill-color);\n",
              "    }\n",
              "    20% {\n",
              "      border-color: transparent;\n",
              "      border-left-color: var(--fill-color);\n",
              "      border-top-color: var(--fill-color);\n",
              "    }\n",
              "    30% {\n",
              "      border-color: transparent;\n",
              "      border-left-color: var(--fill-color);\n",
              "      border-top-color: var(--fill-color);\n",
              "      border-right-color: var(--fill-color);\n",
              "    }\n",
              "    40% {\n",
              "      border-color: transparent;\n",
              "      border-right-color: var(--fill-color);\n",
              "      border-top-color: var(--fill-color);\n",
              "    }\n",
              "    60% {\n",
              "      border-color: transparent;\n",
              "      border-right-color: var(--fill-color);\n",
              "    }\n",
              "    80% {\n",
              "      border-color: transparent;\n",
              "      border-right-color: var(--fill-color);\n",
              "      border-bottom-color: var(--fill-color);\n",
              "    }\n",
              "    90% {\n",
              "      border-color: transparent;\n",
              "      border-bottom-color: var(--fill-color);\n",
              "    }\n",
              "  }\n",
              "</style>\n",
              "\n",
              "  <script>\n",
              "    async function quickchart(key) {\n",
              "      const quickchartButtonEl =\n",
              "        document.querySelector('#' + key + ' button');\n",
              "      quickchartButtonEl.disabled = true;  // To prevent multiple clicks.\n",
              "      quickchartButtonEl.classList.add('colab-df-spinner');\n",
              "      try {\n",
              "        const charts = await google.colab.kernel.invokeFunction(\n",
              "            'suggestCharts', [key], {});\n",
              "      } catch (error) {\n",
              "        console.error('Error during call to suggestCharts:', error);\n",
              "      }\n",
              "      quickchartButtonEl.classList.remove('colab-df-spinner');\n",
              "      quickchartButtonEl.classList.add('colab-df-quickchart-complete');\n",
              "    }\n",
              "    (() => {\n",
              "      let quickchartButtonEl =\n",
              "        document.querySelector('#df-354297f1-14c6-4816-83b0-7071f5d9405e button');\n",
              "      quickchartButtonEl.style.display =\n",
              "        google.colab.kernel.accessAllowed ? 'block' : 'none';\n",
              "    })();\n",
              "  </script>\n",
              "</div>\n",
              "    </div>\n",
              "  </div>\n"
            ],
            "application/vnd.google.colaboratory.intrinsic+json": {
              "type": "dataframe",
              "variable_name": "pd_data",
              "summary": "{\n  \"name\": \"pd_data\",\n  \"rows\": 1000,\n  \"fields\": [\n    {\n      \"column\": \"filename\",\n      \"properties\": {\n        \"dtype\": \"string\",\n        \"num_unique_values\": 1000,\n        \"samples\": [\n          \"ac-bel-105874.wav\",\n          \"doorbell-shortened-100308.wav\",\n          \"cat_39.wav\"\n        ],\n        \"semantic_type\": \"\",\n        \"description\": \"\"\n      }\n    },\n    {\n      \"column\": \"fold\",\n      \"properties\": {\n        \"dtype\": \"number\",\n        \"std\": 1,\n        \"min\": 1,\n        \"max\": 5,\n        \"num_unique_values\": 5,\n        \"samples\": [\n          2,\n          5,\n          3\n        ],\n        \"semantic_type\": \"\",\n        \"description\": \"\"\n      }\n    },\n    {\n      \"column\": \"class_id\",\n      \"properties\": {\n        \"dtype\": \"number\",\n        \"std\": 2,\n        \"min\": 0,\n        \"max\": 9,\n        \"num_unique_values\": 10,\n        \"samples\": [\n          8,\n          1,\n          5\n        ],\n        \"semantic_type\": \"\",\n        \"description\": \"\"\n      }\n    },\n    {\n      \"column\": \"category\",\n      \"properties\": {\n        \"dtype\": \"category\",\n        \"num_unique_values\": 10,\n        \"samples\": [\n          \"dog\",\n          \"door_knock\",\n          \"train\"\n        ],\n        \"semantic_type\": \"\",\n        \"description\": \"\"\n      }\n    }\n  ]\n}"
            }
          },
          "metadata": {},
          "execution_count": 10
        }
      ]
    },
    {
      "cell_type": "markdown",
      "source": [
        "### Filter the data\n",
        "\n",
        "We apply some transformations in the dataset:\n",
        "\n",
        "- Filter out rows and use only the selected classes (`crying baby`, `door knock`, `glass_breaking`, `siren`, `car horn`, `door bells`, `rain`, `cat`, `dog` and `gun_shot`).\n",
        "- Change the filename with the full path. This will make loading easier later.\n",
        "- Change targets to be within a specific range (ID class)."
      ],
      "metadata": {
        "id": "okD0VsVgUuI8"
      }
    },
    {
      "cell_type": "code",
      "source": [
        "# my_classes = ['crying_baby', 'door_knock', 'glass_breaking', 'siren', 'car_horn', 'train',\n",
        "#              'door_bells', 'cat', 'dog', 'gun_shot']\n",
        "# map_class_to_id = {'crying_baby':0, 'door_knock': 1, 'glass_breaking': 2, 'siren': 3, 'car_horn': 4, 'train': 5,\n",
        "#              'door_bells': 6, 'cat': 7, 'dog': 8, 'gun_shot': 9}\n",
        "# filtered_pd = pd_data[pd_data.category.isin(my_classes)]\n",
        "\n",
        "# class_id = filtered_pd['category'].apply(lambda name: map_class_to_id[name])\n",
        "# filtered_pd = filtered_pd.assign(target=class_id)\n",
        "\n",
        "full_path = pd_data['filename'].apply(lambda row: os.path.join(base_data_path, row))\n",
        "pd_data = pd_data.assign(filename=full_path)\n",
        "\n",
        "pd_data.head(10)"
      ],
      "metadata": {
        "colab": {
          "base_uri": "https://localhost:8080/",
          "height": 363
        },
        "id": "wj7t-PsE9EPt",
        "outputId": "4a09070e-9549-461c-de29-557d84326f20"
      },
      "execution_count": null,
      "outputs": [
        {
          "output_type": "execute_result",
          "data": {
            "text/plain": [
              "                                            filename  fold  class_id  \\\n",
              "0  /content/drive/MyDrive/Dataset/Hear4U_dataset_...     1         0   \n",
              "1  /content/drive/MyDrive/Dataset/Hear4U_dataset_...     1         0   \n",
              "2  /content/drive/MyDrive/Dataset/Hear4U_dataset_...     1         0   \n",
              "3  /content/drive/MyDrive/Dataset/Hear4U_dataset_...     1         0   \n",
              "4  /content/drive/MyDrive/Dataset/Hear4U_dataset_...     1         0   \n",
              "5  /content/drive/MyDrive/Dataset/Hear4U_dataset_...     1         0   \n",
              "6  /content/drive/MyDrive/Dataset/Hear4U_dataset_...     1         0   \n",
              "7  /content/drive/MyDrive/Dataset/Hear4U_dataset_...     1         0   \n",
              "8  /content/drive/MyDrive/Dataset/Hear4U_dataset_...     1         0   \n",
              "9  /content/drive/MyDrive/Dataset/Hear4U_dataset_...     1         0   \n",
              "\n",
              "      category  \n",
              "0  crying_baby  \n",
              "1  crying_baby  \n",
              "2  crying_baby  \n",
              "3  crying_baby  \n",
              "4  crying_baby  \n",
              "5  crying_baby  \n",
              "6  crying_baby  \n",
              "7  crying_baby  \n",
              "8  crying_baby  \n",
              "9  crying_baby  "
            ],
            "text/html": [
              "\n",
              "  <div id=\"df-2d84cf08-dd6f-4975-a42a-ea4af67ed044\" class=\"colab-df-container\">\n",
              "    <div>\n",
              "<style scoped>\n",
              "    .dataframe tbody tr th:only-of-type {\n",
              "        vertical-align: middle;\n",
              "    }\n",
              "\n",
              "    .dataframe tbody tr th {\n",
              "        vertical-align: top;\n",
              "    }\n",
              "\n",
              "    .dataframe thead th {\n",
              "        text-align: right;\n",
              "    }\n",
              "</style>\n",
              "<table border=\"1\" class=\"dataframe\">\n",
              "  <thead>\n",
              "    <tr style=\"text-align: right;\">\n",
              "      <th></th>\n",
              "      <th>filename</th>\n",
              "      <th>fold</th>\n",
              "      <th>class_id</th>\n",
              "      <th>category</th>\n",
              "    </tr>\n",
              "  </thead>\n",
              "  <tbody>\n",
              "    <tr>\n",
              "      <th>0</th>\n",
              "      <td>/content/drive/MyDrive/Dataset/Hear4U_dataset_...</td>\n",
              "      <td>1</td>\n",
              "      <td>0</td>\n",
              "      <td>crying_baby</td>\n",
              "    </tr>\n",
              "    <tr>\n",
              "      <th>1</th>\n",
              "      <td>/content/drive/MyDrive/Dataset/Hear4U_dataset_...</td>\n",
              "      <td>1</td>\n",
              "      <td>0</td>\n",
              "      <td>crying_baby</td>\n",
              "    </tr>\n",
              "    <tr>\n",
              "      <th>2</th>\n",
              "      <td>/content/drive/MyDrive/Dataset/Hear4U_dataset_...</td>\n",
              "      <td>1</td>\n",
              "      <td>0</td>\n",
              "      <td>crying_baby</td>\n",
              "    </tr>\n",
              "    <tr>\n",
              "      <th>3</th>\n",
              "      <td>/content/drive/MyDrive/Dataset/Hear4U_dataset_...</td>\n",
              "      <td>1</td>\n",
              "      <td>0</td>\n",
              "      <td>crying_baby</td>\n",
              "    </tr>\n",
              "    <tr>\n",
              "      <th>4</th>\n",
              "      <td>/content/drive/MyDrive/Dataset/Hear4U_dataset_...</td>\n",
              "      <td>1</td>\n",
              "      <td>0</td>\n",
              "      <td>crying_baby</td>\n",
              "    </tr>\n",
              "    <tr>\n",
              "      <th>5</th>\n",
              "      <td>/content/drive/MyDrive/Dataset/Hear4U_dataset_...</td>\n",
              "      <td>1</td>\n",
              "      <td>0</td>\n",
              "      <td>crying_baby</td>\n",
              "    </tr>\n",
              "    <tr>\n",
              "      <th>6</th>\n",
              "      <td>/content/drive/MyDrive/Dataset/Hear4U_dataset_...</td>\n",
              "      <td>1</td>\n",
              "      <td>0</td>\n",
              "      <td>crying_baby</td>\n",
              "    </tr>\n",
              "    <tr>\n",
              "      <th>7</th>\n",
              "      <td>/content/drive/MyDrive/Dataset/Hear4U_dataset_...</td>\n",
              "      <td>1</td>\n",
              "      <td>0</td>\n",
              "      <td>crying_baby</td>\n",
              "    </tr>\n",
              "    <tr>\n",
              "      <th>8</th>\n",
              "      <td>/content/drive/MyDrive/Dataset/Hear4U_dataset_...</td>\n",
              "      <td>1</td>\n",
              "      <td>0</td>\n",
              "      <td>crying_baby</td>\n",
              "    </tr>\n",
              "    <tr>\n",
              "      <th>9</th>\n",
              "      <td>/content/drive/MyDrive/Dataset/Hear4U_dataset_...</td>\n",
              "      <td>1</td>\n",
              "      <td>0</td>\n",
              "      <td>crying_baby</td>\n",
              "    </tr>\n",
              "  </tbody>\n",
              "</table>\n",
              "</div>\n",
              "    <div class=\"colab-df-buttons\">\n",
              "\n",
              "  <div class=\"colab-df-container\">\n",
              "    <button class=\"colab-df-convert\" onclick=\"convertToInteractive('df-2d84cf08-dd6f-4975-a42a-ea4af67ed044')\"\n",
              "            title=\"Convert this dataframe to an interactive table.\"\n",
              "            style=\"display:none;\">\n",
              "\n",
              "  <svg xmlns=\"http://www.w3.org/2000/svg\" height=\"24px\" viewBox=\"0 -960 960 960\">\n",
              "    <path d=\"M120-120v-720h720v720H120Zm60-500h600v-160H180v160Zm220 220h160v-160H400v160Zm0 220h160v-160H400v160ZM180-400h160v-160H180v160Zm440 0h160v-160H620v160ZM180-180h160v-160H180v160Zm440 0h160v-160H620v160Z\"/>\n",
              "  </svg>\n",
              "    </button>\n",
              "\n",
              "  <style>\n",
              "    .colab-df-container {\n",
              "      display:flex;\n",
              "      gap: 12px;\n",
              "    }\n",
              "\n",
              "    .colab-df-convert {\n",
              "      background-color: #E8F0FE;\n",
              "      border: none;\n",
              "      border-radius: 50%;\n",
              "      cursor: pointer;\n",
              "      display: none;\n",
              "      fill: #1967D2;\n",
              "      height: 32px;\n",
              "      padding: 0 0 0 0;\n",
              "      width: 32px;\n",
              "    }\n",
              "\n",
              "    .colab-df-convert:hover {\n",
              "      background-color: #E2EBFA;\n",
              "      box-shadow: 0px 1px 2px rgba(60, 64, 67, 0.3), 0px 1px 3px 1px rgba(60, 64, 67, 0.15);\n",
              "      fill: #174EA6;\n",
              "    }\n",
              "\n",
              "    .colab-df-buttons div {\n",
              "      margin-bottom: 4px;\n",
              "    }\n",
              "\n",
              "    [theme=dark] .colab-df-convert {\n",
              "      background-color: #3B4455;\n",
              "      fill: #D2E3FC;\n",
              "    }\n",
              "\n",
              "    [theme=dark] .colab-df-convert:hover {\n",
              "      background-color: #434B5C;\n",
              "      box-shadow: 0px 1px 3px 1px rgba(0, 0, 0, 0.15);\n",
              "      filter: drop-shadow(0px 1px 2px rgba(0, 0, 0, 0.3));\n",
              "      fill: #FFFFFF;\n",
              "    }\n",
              "  </style>\n",
              "\n",
              "    <script>\n",
              "      const buttonEl =\n",
              "        document.querySelector('#df-2d84cf08-dd6f-4975-a42a-ea4af67ed044 button.colab-df-convert');\n",
              "      buttonEl.style.display =\n",
              "        google.colab.kernel.accessAllowed ? 'block' : 'none';\n",
              "\n",
              "      async function convertToInteractive(key) {\n",
              "        const element = document.querySelector('#df-2d84cf08-dd6f-4975-a42a-ea4af67ed044');\n",
              "        const dataTable =\n",
              "          await google.colab.kernel.invokeFunction('convertToInteractive',\n",
              "                                                    [key], {});\n",
              "        if (!dataTable) return;\n",
              "\n",
              "        const docLinkHtml = 'Like what you see? Visit the ' +\n",
              "          '<a target=\"_blank\" href=https://colab.research.google.com/notebooks/data_table.ipynb>data table notebook</a>'\n",
              "          + ' to learn more about interactive tables.';\n",
              "        element.innerHTML = '';\n",
              "        dataTable['output_type'] = 'display_data';\n",
              "        await google.colab.output.renderOutput(dataTable, element);\n",
              "        const docLink = document.createElement('div');\n",
              "        docLink.innerHTML = docLinkHtml;\n",
              "        element.appendChild(docLink);\n",
              "      }\n",
              "    </script>\n",
              "  </div>\n",
              "\n",
              "\n",
              "<div id=\"df-dcf1cda1-8669-4231-86b8-2f189fc18951\">\n",
              "  <button class=\"colab-df-quickchart\" onclick=\"quickchart('df-dcf1cda1-8669-4231-86b8-2f189fc18951')\"\n",
              "            title=\"Suggest charts\"\n",
              "            style=\"display:none;\">\n",
              "\n",
              "<svg xmlns=\"http://www.w3.org/2000/svg\" height=\"24px\"viewBox=\"0 0 24 24\"\n",
              "     width=\"24px\">\n",
              "    <g>\n",
              "        <path d=\"M19 3H5c-1.1 0-2 .9-2 2v14c0 1.1.9 2 2 2h14c1.1 0 2-.9 2-2V5c0-1.1-.9-2-2-2zM9 17H7v-7h2v7zm4 0h-2V7h2v10zm4 0h-2v-4h2v4z\"/>\n",
              "    </g>\n",
              "</svg>\n",
              "  </button>\n",
              "\n",
              "<style>\n",
              "  .colab-df-quickchart {\n",
              "      --bg-color: #E8F0FE;\n",
              "      --fill-color: #1967D2;\n",
              "      --hover-bg-color: #E2EBFA;\n",
              "      --hover-fill-color: #174EA6;\n",
              "      --disabled-fill-color: #AAA;\n",
              "      --disabled-bg-color: #DDD;\n",
              "  }\n",
              "\n",
              "  [theme=dark] .colab-df-quickchart {\n",
              "      --bg-color: #3B4455;\n",
              "      --fill-color: #D2E3FC;\n",
              "      --hover-bg-color: #434B5C;\n",
              "      --hover-fill-color: #FFFFFF;\n",
              "      --disabled-bg-color: #3B4455;\n",
              "      --disabled-fill-color: #666;\n",
              "  }\n",
              "\n",
              "  .colab-df-quickchart {\n",
              "    background-color: var(--bg-color);\n",
              "    border: none;\n",
              "    border-radius: 50%;\n",
              "    cursor: pointer;\n",
              "    display: none;\n",
              "    fill: var(--fill-color);\n",
              "    height: 32px;\n",
              "    padding: 0;\n",
              "    width: 32px;\n",
              "  }\n",
              "\n",
              "  .colab-df-quickchart:hover {\n",
              "    background-color: var(--hover-bg-color);\n",
              "    box-shadow: 0 1px 2px rgba(60, 64, 67, 0.3), 0 1px 3px 1px rgba(60, 64, 67, 0.15);\n",
              "    fill: var(--button-hover-fill-color);\n",
              "  }\n",
              "\n",
              "  .colab-df-quickchart-complete:disabled,\n",
              "  .colab-df-quickchart-complete:disabled:hover {\n",
              "    background-color: var(--disabled-bg-color);\n",
              "    fill: var(--disabled-fill-color);\n",
              "    box-shadow: none;\n",
              "  }\n",
              "\n",
              "  .colab-df-spinner {\n",
              "    border: 2px solid var(--fill-color);\n",
              "    border-color: transparent;\n",
              "    border-bottom-color: var(--fill-color);\n",
              "    animation:\n",
              "      spin 1s steps(1) infinite;\n",
              "  }\n",
              "\n",
              "  @keyframes spin {\n",
              "    0% {\n",
              "      border-color: transparent;\n",
              "      border-bottom-color: var(--fill-color);\n",
              "      border-left-color: var(--fill-color);\n",
              "    }\n",
              "    20% {\n",
              "      border-color: transparent;\n",
              "      border-left-color: var(--fill-color);\n",
              "      border-top-color: var(--fill-color);\n",
              "    }\n",
              "    30% {\n",
              "      border-color: transparent;\n",
              "      border-left-color: var(--fill-color);\n",
              "      border-top-color: var(--fill-color);\n",
              "      border-right-color: var(--fill-color);\n",
              "    }\n",
              "    40% {\n",
              "      border-color: transparent;\n",
              "      border-right-color: var(--fill-color);\n",
              "      border-top-color: var(--fill-color);\n",
              "    }\n",
              "    60% {\n",
              "      border-color: transparent;\n",
              "      border-right-color: var(--fill-color);\n",
              "    }\n",
              "    80% {\n",
              "      border-color: transparent;\n",
              "      border-right-color: var(--fill-color);\n",
              "      border-bottom-color: var(--fill-color);\n",
              "    }\n",
              "    90% {\n",
              "      border-color: transparent;\n",
              "      border-bottom-color: var(--fill-color);\n",
              "    }\n",
              "  }\n",
              "</style>\n",
              "\n",
              "  <script>\n",
              "    async function quickchart(key) {\n",
              "      const quickchartButtonEl =\n",
              "        document.querySelector('#' + key + ' button');\n",
              "      quickchartButtonEl.disabled = true;  // To prevent multiple clicks.\n",
              "      quickchartButtonEl.classList.add('colab-df-spinner');\n",
              "      try {\n",
              "        const charts = await google.colab.kernel.invokeFunction(\n",
              "            'suggestCharts', [key], {});\n",
              "      } catch (error) {\n",
              "        console.error('Error during call to suggestCharts:', error);\n",
              "      }\n",
              "      quickchartButtonEl.classList.remove('colab-df-spinner');\n",
              "      quickchartButtonEl.classList.add('colab-df-quickchart-complete');\n",
              "    }\n",
              "    (() => {\n",
              "      let quickchartButtonEl =\n",
              "        document.querySelector('#df-dcf1cda1-8669-4231-86b8-2f189fc18951 button');\n",
              "      quickchartButtonEl.style.display =\n",
              "        google.colab.kernel.accessAllowed ? 'block' : 'none';\n",
              "    })();\n",
              "  </script>\n",
              "</div>\n",
              "    </div>\n",
              "  </div>\n"
            ],
            "application/vnd.google.colaboratory.intrinsic+json": {
              "type": "dataframe",
              "variable_name": "pd_data",
              "summary": "{\n  \"name\": \"pd_data\",\n  \"rows\": 1000,\n  \"fields\": [\n    {\n      \"column\": \"filename\",\n      \"properties\": {\n        \"dtype\": \"string\",\n        \"num_unique_values\": 1000,\n        \"samples\": [\n          \"/content/drive/MyDrive/Dataset/Hear4U_dataset_converted/ac-bel-105874.wav\",\n          \"/content/drive/MyDrive/Dataset/Hear4U_dataset_converted/doorbell-shortened-100308.wav\",\n          \"/content/drive/MyDrive/Dataset/Hear4U_dataset_converted/cat_39.wav\"\n        ],\n        \"semantic_type\": \"\",\n        \"description\": \"\"\n      }\n    },\n    {\n      \"column\": \"fold\",\n      \"properties\": {\n        \"dtype\": \"number\",\n        \"std\": 1,\n        \"min\": 1,\n        \"max\": 5,\n        \"num_unique_values\": 5,\n        \"samples\": [\n          2,\n          5,\n          3\n        ],\n        \"semantic_type\": \"\",\n        \"description\": \"\"\n      }\n    },\n    {\n      \"column\": \"class_id\",\n      \"properties\": {\n        \"dtype\": \"number\",\n        \"std\": 2,\n        \"min\": 0,\n        \"max\": 9,\n        \"num_unique_values\": 10,\n        \"samples\": [\n          8,\n          1,\n          5\n        ],\n        \"semantic_type\": \"\",\n        \"description\": \"\"\n      }\n    },\n    {\n      \"column\": \"category\",\n      \"properties\": {\n        \"dtype\": \"category\",\n        \"num_unique_values\": 10,\n        \"samples\": [\n          \"dog\",\n          \"door_knock\",\n          \"train\"\n        ],\n        \"semantic_type\": \"\",\n        \"description\": \"\"\n      }\n    }\n  ]\n}"
            }
          },
          "metadata": {},
          "execution_count": 18
        }
      ]
    },
    {
      "cell_type": "markdown",
      "source": [
        "### Load the audio files and retrieve embeddings\n",
        "\n",
        "Apply the `load_wav_16k_mono` and prepare the WAV data for the model."
      ],
      "metadata": {
        "id": "KdQGfdDUU6jM"
      }
    },
    {
      "cell_type": "code",
      "source": [
        "filenames = pd_data['filename']\n",
        "targets = pd_data['class_id']\n",
        "folds = pd_data['fold']\n",
        "\n",
        "main_ds = tf.data.Dataset.from_tensor_slices((filenames, targets, folds))\n",
        "main_ds.element_spec"
      ],
      "metadata": {
        "colab": {
          "base_uri": "https://localhost:8080/"
        },
        "id": "n2IRXOOLthvB",
        "outputId": "fa334ce5-a25a-4248-e275-9669ef6f79f6"
      },
      "execution_count": null,
      "outputs": [
        {
          "output_type": "execute_result",
          "data": {
            "text/plain": [
              "(TensorSpec(shape=(), dtype=tf.string, name=None),\n",
              " TensorSpec(shape=(), dtype=tf.int64, name=None),\n",
              " TensorSpec(shape=(), dtype=tf.int64, name=None))"
            ]
          },
          "metadata": {},
          "execution_count": 19
        }
      ]
    },
    {
      "cell_type": "code",
      "source": [
        "def load_wav_for_map(filename, label, fold):\n",
        "  return load_wav_16k_mono(filename), label, fold\n",
        "\n",
        "main_ds = main_ds.map(load_wav_for_map)\n",
        "main_ds.element_spec"
      ],
      "metadata": {
        "colab": {
          "base_uri": "https://localhost:8080/"
        },
        "id": "V1ZYaoLptx1C",
        "outputId": "9dea5232-3604-4714-a4f0-2b4b56d19532"
      },
      "execution_count": null,
      "outputs": [
        {
          "output_type": "execute_result",
          "data": {
            "text/plain": [
              "(TensorSpec(shape=<unknown>, dtype=tf.float32, name=None),\n",
              " TensorSpec(shape=(), dtype=tf.int64, name=None),\n",
              " TensorSpec(shape=(), dtype=tf.int64, name=None))"
            ]
          },
          "metadata": {},
          "execution_count": 20
        }
      ]
    },
    {
      "cell_type": "code",
      "source": [
        "# applies the embedding extraction model to a wav data\n",
        "def extract_embedding(wav_data, label, fold):\n",
        "  ''' run YAMNet to extract embedding from the wav data '''\n",
        "  scores, embeddings, spectrogram = yamnet_model(wav_data)\n",
        "  num_embeddings = tf.shape(embeddings)[0]\n",
        "  return (embeddings,\n",
        "            tf.repeat(label, num_embeddings),\n",
        "            tf.repeat(fold, num_embeddings))\n",
        "\n",
        "# extract embedding\n",
        "main_ds = main_ds.map(extract_embedding).unbatch()\n",
        "main_ds.element_spec"
      ],
      "metadata": {
        "colab": {
          "base_uri": "https://localhost:8080/"
        },
        "id": "t0fPGwoouBIi",
        "outputId": "708006a3-27b0-4722-874f-ed4bc89c06c9"
      },
      "execution_count": null,
      "outputs": [
        {
          "output_type": "execute_result",
          "data": {
            "text/plain": [
              "(TensorSpec(shape=(1024,), dtype=tf.float32, name=None),\n",
              " TensorSpec(shape=(), dtype=tf.int64, name=None),\n",
              " TensorSpec(shape=(), dtype=tf.int64, name=None))"
            ]
          },
          "metadata": {},
          "execution_count": 21
        }
      ]
    },
    {
      "cell_type": "markdown",
      "source": [
        "### Split the data\n",
        "\n",
        "You will use the `fold` column to split the dataset into train, validation and test sets.\n",
        "\n",
        "Hear4U Dataset is arranged into five uniformly-sized cross-validation `fold`s, such that clips from the same original source are always in the same `fold`.\n",
        "\n",
        "The last step is to remove the `fold` column from the dataset since you're not going to use it during training.\n"
      ],
      "metadata": {
        "id": "e9KjFheiVHTC"
      }
    },
    {
      "cell_type": "code",
      "source": [
        "cached_ds = main_ds.cache()\n",
        "train_ds = cached_ds.filter(lambda embedding, label, fold: fold < 4)\n",
        "val_ds = cached_ds.filter(lambda embedding, label, fold: fold == 4)\n",
        "test_ds = cached_ds.filter(lambda embedding, label, fold: fold == 5)\n",
        "\n",
        "# remove the folds column now that it's not needed anymore\n",
        "remove_fold_column = lambda embedding, label, fold: (embedding, label)\n",
        "\n",
        "train_ds = train_ds.map(remove_fold_column)\n",
        "val_ds = val_ds.map(remove_fold_column)\n",
        "test_ds = test_ds.map(remove_fold_column)\n",
        "\n",
        "train_ds = train_ds.cache().shuffle(1000).batch(32).prefetch(tf.data.AUTOTUNE)\n",
        "val_ds = val_ds.cache().batch(32).prefetch(tf.data.AUTOTUNE)\n",
        "test_ds = test_ds.cache().batch(32).prefetch(tf.data.AUTOTUNE)"
      ],
      "metadata": {
        "id": "oKN3bR41uFeq"
      },
      "execution_count": null,
      "outputs": []
    },
    {
      "cell_type": "markdown",
      "metadata": {
        "id": "v5PaMwvtcAIe"
      },
      "source": [
        "## Create our model"
      ]
    },
    {
      "cell_type": "code",
      "execution_count": null,
      "metadata": {
        "colab": {
          "base_uri": "https://localhost:8080/"
        },
        "id": "JYCE0Fr1GpN3",
        "outputId": "a73a9cc3-adce-407d-db63-108d1614636f"
      },
      "outputs": [
        {
          "output_type": "stream",
          "name": "stdout",
          "text": [
            "Model: \"my_model\"\n",
            "_________________________________________________________________\n",
            " Layer (type)                Output Shape              Param #   \n",
            "=================================================================\n",
            " dense_2 (Dense)             (None, 512)               524800    \n",
            "                                                                 \n",
            " dense_3 (Dense)             (None, 10)                5130      \n",
            "                                                                 \n",
            "=================================================================\n",
            "Total params: 529,930\n",
            "Trainable params: 529,930\n",
            "Non-trainable params: 0\n",
            "_________________________________________________________________\n"
          ]
        }
      ],
      "source": [
        "my_model = tf.keras.Sequential([\n",
        "    tf.keras.layers.Input(shape=(1024), dtype=tf.float32,\n",
        "                          name='input_embedding'),\n",
        "    tf.keras.layers.Dense(512, activation='relu'),\n",
        "    tf.keras.layers.Dense(10)\n",
        "], name='my_model')\n",
        "\n",
        "my_model.summary()"
      ]
    },
    {
      "cell_type": "code",
      "execution_count": null,
      "metadata": {
        "id": "l1qgH35HY0SE"
      },
      "outputs": [],
      "source": [
        "my_model.compile(loss=tf.keras.losses.SparseCategoricalCrossentropy(from_logits=True),\n",
        "                 optimizer=\"adam\",\n",
        "                 metrics=['accuracy'])\n",
        "\n",
        "callback = tf.keras.callbacks.EarlyStopping(monitor='loss',\n",
        "                                            patience=3,\n",
        "                                            restore_best_weights=True)"
      ]
    },
    {
      "cell_type": "code",
      "execution_count": null,
      "metadata": {
        "colab": {
          "base_uri": "https://localhost:8080/"
        },
        "id": "T3sj84eOZ3pk",
        "outputId": "db6c145b-a75a-4785-c074-a2043d699962"
      },
      "outputs": [
        {
          "output_type": "stream",
          "name": "stdout",
          "text": [
            "Epoch 1/20\n",
            "212/212 [==============================] - 119s 300ms/step - loss: 0.7215 - accuracy: 0.8262 - val_loss: 0.4677 - val_accuracy: 0.8340\n",
            "Epoch 2/20\n",
            "212/212 [==============================] - 2s 9ms/step - loss: 0.3836 - accuracy: 0.8753 - val_loss: 0.4904 - val_accuracy: 0.8317\n",
            "Epoch 3/20\n",
            "212/212 [==============================] - 3s 13ms/step - loss: 0.3357 - accuracy: 0.8852 - val_loss: 0.5426 - val_accuracy: 0.8126\n",
            "Epoch 4/20\n",
            "212/212 [==============================] - 3s 13ms/step - loss: 0.3024 - accuracy: 0.8926 - val_loss: 0.5314 - val_accuracy: 0.8363\n",
            "Epoch 5/20\n",
            "212/212 [==============================] - 2s 8ms/step - loss: 0.2755 - accuracy: 0.9000 - val_loss: 0.4963 - val_accuracy: 0.8408\n",
            "Epoch 6/20\n",
            "212/212 [==============================] - 2s 8ms/step - loss: 0.2492 - accuracy: 0.9111 - val_loss: 0.4998 - val_accuracy: 0.8331\n",
            "Epoch 7/20\n",
            "212/212 [==============================] - 2s 8ms/step - loss: 0.2261 - accuracy: 0.9179 - val_loss: 0.5403 - val_accuracy: 0.8317\n",
            "Epoch 8/20\n",
            "212/212 [==============================] - 3s 12ms/step - loss: 0.2052 - accuracy: 0.9300 - val_loss: 0.5505 - val_accuracy: 0.8322\n",
            "Epoch 9/20\n",
            "212/212 [==============================] - 3s 15ms/step - loss: 0.1970 - accuracy: 0.9337 - val_loss: 0.5645 - val_accuracy: 0.8308\n",
            "Epoch 10/20\n",
            "212/212 [==============================] - 2s 8ms/step - loss: 0.1879 - accuracy: 0.9343 - val_loss: 0.5685 - val_accuracy: 0.8345\n",
            "Epoch 11/20\n",
            "212/212 [==============================] - 2s 9ms/step - loss: 0.1787 - accuracy: 0.9392 - val_loss: 0.5968 - val_accuracy: 0.8413\n",
            "Epoch 12/20\n",
            "212/212 [==============================] - 2s 8ms/step - loss: 0.1693 - accuracy: 0.9383 - val_loss: 0.6021 - val_accuracy: 0.8390\n",
            "Epoch 13/20\n",
            "212/212 [==============================] - 3s 12ms/step - loss: 0.1644 - accuracy: 0.9401 - val_loss: 0.6713 - val_accuracy: 0.8345\n",
            "Epoch 14/20\n",
            "212/212 [==============================] - 3s 13ms/step - loss: 0.1525 - accuracy: 0.9478 - val_loss: 0.6602 - val_accuracy: 0.8331\n",
            "Epoch 15/20\n",
            "212/212 [==============================] - 2s 11ms/step - loss: 0.1489 - accuracy: 0.9465 - val_loss: 0.6355 - val_accuracy: 0.8408\n",
            "Epoch 16/20\n",
            "212/212 [==============================] - 4s 16ms/step - loss: 0.1457 - accuracy: 0.9462 - val_loss: 0.6761 - val_accuracy: 0.8331\n",
            "Epoch 17/20\n",
            "212/212 [==============================] - 3s 13ms/step - loss: 0.1418 - accuracy: 0.9476 - val_loss: 0.6766 - val_accuracy: 0.8440\n",
            "Epoch 18/20\n",
            "212/212 [==============================] - 2s 8ms/step - loss: 0.1389 - accuracy: 0.9484 - val_loss: 0.6968 - val_accuracy: 0.8417\n",
            "Epoch 19/20\n",
            "212/212 [==============================] - 2s 8ms/step - loss: 0.1405 - accuracy: 0.9472 - val_loss: 0.7242 - val_accuracy: 0.8390\n",
            "Epoch 20/20\n",
            "212/212 [==============================] - 2s 9ms/step - loss: 0.1416 - accuracy: 0.9481 - val_loss: 0.7227 - val_accuracy: 0.8290\n"
          ]
        }
      ],
      "source": [
        "history = my_model.fit(train_ds,\n",
        "                       epochs=20,\n",
        "                       validation_data=val_ds,\n",
        "                       callbacks=callback)"
      ]
    },
    {
      "cell_type": "markdown",
      "metadata": {
        "id": "OAbraYKYpdoE"
      },
      "source": [
        "Run the `evaluate` method on the test data."
      ]
    },
    {
      "cell_type": "code",
      "execution_count": null,
      "metadata": {
        "id": "H4Nh5nec3Sky",
        "colab": {
          "base_uri": "https://localhost:8080/"
        },
        "outputId": "50428a59-a598-4344-891e-33a46a733657"
      },
      "outputs": [
        {
          "output_type": "stream",
          "name": "stdout",
          "text": [
            "63/63 [==============================] - 1s 9ms/step - loss: 0.6611 - accuracy: 0.8389\n",
            "Loss:  0.6610701084136963\n",
            "Accuracy:  0.8388554453849792\n"
          ]
        }
      ],
      "source": [
        "loss, accuracy = my_model.evaluate(test_ds)\n",
        "\n",
        "print(\"Loss: \", loss)\n",
        "print(\"Accuracy: \", accuracy)"
      ]
    },
    {
      "cell_type": "markdown",
      "source": [
        "## Test your model\n",
        "\n",
        "Next, try your model on the embedding from the previous test using YAMNet only.\n"
      ],
      "metadata": {
        "id": "L_W799QbV0Jy"
      }
    },
    {
      "cell_type": "code",
      "source": [
        "scores, embeddings, spectrogram = yamnet_model(testing_wav_data)\n",
        "result = my_model(embeddings).numpy()\n",
        "\n",
        "my_classes = ['crying_baby', 'door_knock', 'glass_breaking', 'siren', 'car_horn', 'train',\n",
        "              'door_bells', 'cat', 'dog', 'gun_shot']\n",
        "\n",
        "inferred_class = my_classes[result.mean(axis=0).argmax()]\n",
        "print(f'The main sound is: {inferred_class}')"
      ],
      "metadata": {
        "colab": {
          "base_uri": "https://localhost:8080/"
        },
        "id": "TB-smMCFV1sP",
        "outputId": "eb5b5c43-8625-42ad-9d8a-a7db55c6fd3b"
      },
      "execution_count": null,
      "outputs": [
        {
          "output_type": "stream",
          "name": "stdout",
          "text": [
            "The main sound is: gun_shot\n"
          ]
        }
      ]
    },
    {
      "cell_type": "markdown",
      "metadata": {
        "id": "k2yleeev645r"
      },
      "source": [
        "## Save a model that can directly take a WAV file as input\n",
        "\n",
        "Your model works when you give it the embeddings as input.\n",
        "\n",
        "In a real-world scenario, you'll want to use audio data as a direct input.\n",
        "\n",
        "To do that, you will combine YAMNet with your model into a single model that you can export for other applications.\n",
        "\n",
        "To make it easier to use the model's result, the final layer will be a `reduce_mean` operation. When using this model for serving (which you will learn about later in the tutorial), you will need the name of the final layer. If you don't define one, TensorFlow will auto-define an incremental one that makes it hard to test, as it will keep changing every time you train the model. When using a raw TensorFlow operation, you can't assign a name to it. To address this issue, you'll create a custom layer that applies `reduce_mean` and call it `'classifier'`.\n"
      ]
    },
    {
      "cell_type": "code",
      "execution_count": null,
      "metadata": {
        "id": "QUVCI2Suunpw"
      },
      "outputs": [],
      "source": [
        "class ReduceMeanLayer(tf.keras.layers.Layer):\n",
        "  def __init__(self, axis=0, **kwargs):\n",
        "    super(ReduceMeanLayer, self).__init__(**kwargs)\n",
        "    self.axis = axis\n",
        "\n",
        "  def call(self, input):\n",
        "    return tf.math.reduce_mean(input, axis=self.axis)"
      ]
    },
    {
      "cell_type": "code",
      "execution_count": null,
      "metadata": {
        "colab": {
          "base_uri": "https://localhost:8080/"
        },
        "id": "zE_Npm0nzlwc",
        "outputId": "a393261d-5e1d-4a56-ee53-adf2d72e41fa"
      },
      "outputs": [
        {
          "output_type": "stream",
          "name": "stderr",
          "text": [
            "WARNING:tensorflow:Compiled the loaded model, but the compiled metrics have yet to be built. `model.compile_metrics` will be empty until you train or evaluate the model.\n",
            "WARNING:absl:Found untraced functions such as _update_step_xla while saving (showing 1 of 1). These functions will not be directly callable after loading.\n"
          ]
        }
      ],
      "source": [
        "saved_model_path = '/content/drive/MyDrive/model/hear4U_modelv3'\n",
        "\n",
        "input_segment = tf.keras.layers.Input(shape=(), dtype=tf.float32, name='audio')\n",
        "embedding_extraction_layer = hub.KerasLayer(yamnet_model_handle,\n",
        "                                            trainable=False, name='yamnet')\n",
        "_, embeddings_output, _ = embedding_extraction_layer(input_segment)\n",
        "serving_outputs = my_model(embeddings_output)\n",
        "serving_outputs = ReduceMeanLayer(axis=0, name='classifier')(serving_outputs)\n",
        "serving_model = tf.keras.Model(input_segment, serving_outputs)\n",
        "serving_model.save(saved_model_path, include_optimizer=False)"
      ]
    },
    {
      "cell_type": "code",
      "execution_count": null,
      "metadata": {
        "colab": {
          "base_uri": "https://localhost:8080/",
          "height": 369
        },
        "id": "y-0bY5FMme1C",
        "outputId": "53439eb3-53cd-4a29-b9cf-ad37d22ca134"
      },
      "outputs": [
        {
          "output_type": "execute_result",
          "data": {
            "image/png": "[encoded data removed]",
            "text/plain": [
              "<IPython.core.display.Image object>"
            ]
          },
          "metadata": {},
          "execution_count": 33
        }
      ],
      "source": [
        "tf.keras.utils.plot_model(serving_model)"
      ]
    },
    {
      "cell_type": "markdown",
      "metadata": {
        "id": "btHQDN9mqxM_"
      },
      "source": [
        "Load our saved model to verify that it works as expected."
      ]
    },
    {
      "cell_type": "code",
      "execution_count": null,
      "metadata": {
        "id": "KkYVpJS72WWB"
      },
      "outputs": [],
      "source": [
        "reloaded_model = tf.saved_model.load(saved_model_path)"
      ]
    },
    {
      "cell_type": "markdown",
      "metadata": {
        "id": "da7blblCHs8c"
      },
      "source": [
        "## Test model\n"
      ]
    },
    {
      "cell_type": "code",
      "execution_count": null,
      "metadata": {
        "colab": {
          "base_uri": "https://localhost:8080/",
          "height": 561
        },
        "id": "vDf5MASIIN1z",
        "outputId": "4f38322c-c265-4e7d-8ad9-42a1c498d857"
      },
      "outputs": [
        {
          "output_type": "stream",
          "name": "stderr",
          "text": [
            "WARNING:tensorflow:Using a while_loop for converting IO>AudioResample cause there is no registered converter for this op.\n"
          ]
        },
        {
          "output_type": "stream",
          "name": "stdout",
          "text": [
            "/content/drive/MyDrive/Dataset/Hear4U_dataset_converted/174284-6-2-0.wav\n",
            "Waveform values: [ 1.5890922e-09 -3.8605532e-09  8.7119263e-09 ...  1.5459393e-04\n",
            "  1.5053833e-04  1.2412533e-04]\n"
          ]
        },
        {
          "output_type": "execute_result",
          "data": {
            "text/plain": [
              "<IPython.lib.display.Audio object>"
            ],
            "text/html": [
              "\n",
              "                <audio  controls=\"controls\" >\n",
              "                    <source src=\"data:audio/wav;base64,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\" type=\"audio/wav\" />\n",
              "                    Your browser does not support the audio element.\n",
              "                </audio>\n",
              "              "
            ]
          },
          "metadata": {},
          "execution_count": 44
        },
        {
          "output_type": "display_data",
          "data": {
            "text/plain": [
              "<Figure size 640x480 with 1 Axes>"
            ],
            "image/png": "[encoded data removed]"
          },
          "metadata": {}
        }
      ],
      "source": [
        "test_pd = pd_data.loc[pd_data['fold'] == 5]\n",
        "row = test_pd.sample(1)\n",
        "filename = row['filename'].item()\n",
        "print(filename)\n",
        "waveform = load_wav_16k_mono(filename)\n",
        "print(f'Waveform values: {waveform}')\n",
        "_ = plt.plot(waveform)\n",
        "\n",
        "display.Audio(waveform, rate=16000)"
      ]
    },
    {
      "cell_type": "code",
      "execution_count": 47,
      "metadata": {
        "colab": {
          "base_uri": "https://localhost:8080/"
        },
        "id": "eYUzFxYJIcE1",
        "outputId": "87695c78-48fa-45cc-f9a0-219d22f124bf"
      },
      "outputs": [
        {
          "output_type": "stream",
          "name": "stdout",
          "text": [
            "Predict with our model classes (labels). The sound is: gun_shot (0.9999970197677612)\n"
          ]
        }
      ],
      "source": [
        "# Run the model, check the output.\n",
        "reloaded_results = reloaded_model(waveform)\n",
        "your_top_class = tf.math.argmax(reloaded_results)\n",
        "your_inferred_class = my_classes[your_top_class]\n",
        "class_probabilities = tf.nn.softmax(reloaded_results, axis=-1)\n",
        "your_top_score = class_probabilities[your_top_class]\n",
        "print(f'Predict with our model classes (labels). The sound is: {your_inferred_class} ({your_top_score})')"
      ]
    },
    {
      "cell_type": "code",
      "source": [
        "# class_translation = {\n",
        "#     'crying_baby': 'Bayi Menangis',\n",
        "#     'door_wood_knock': 'Ketukan Pintu',\n",
        "#     'glass_breaking': 'Pecahan Kaca',\n",
        "#     'siren': 'Sirene',\n",
        "#     'car_horn': 'Klakson Mobil',\n",
        "#     'train': 'Kereta Api',\n",
        "#     'church_bells': 'Lonceng Gereja',\n",
        "#     'rain': 'Hujan',\n",
        "#     'cat': 'Kucing',\n",
        "#     'dog': 'Anjing'\n",
        "# }\n",
        "\n",
        "# Run the model to predict the label.\n",
        "# reloaded_results = reloaded_model(waveform)\n",
        "# your_top_class = tf.math.argmax(reloaded_results)\n",
        "# your_inferred_class = my_classes[your_top_class]\n",
        "# class_probabilities = tf.nn.softmax(reloaded_results, axis=-1)\n",
        "# your_top_score = class_probabilities[your_top_class]\n",
        "\n",
        "# Get the class name\n",
        "# inferred_class_english = my_classes[your_top_class]\n",
        "\n",
        "# Translate to Indonesian\n",
        "# inferred_class_indonesian = class_translation[inferred_class_english]\n",
        "\n",
        "# print(f'Predict the class: {inferred_class_indonesian}')"
      ],
      "metadata": {
        "id": "MPgUxozrTMxz"
      },
      "execution_count": 48,
      "outputs": []
    }
  ],
  "metadata": {
    "accelerator": "GPU",
    "colab": {
      "gpuType": "T4",
      "provenance": []
    },
    "kernelspec": {
      "display_name": "Python 3",
      "name": "python3"
    }
  },
  "nbformat": 4,
  "nbformat_minor": 0
}